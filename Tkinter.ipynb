{
 "cells": [
  {
   "cell_type": "markdown",
   "metadata": {
    "toc": true
   },
   "source": [
    "<h1>Table of Contents<span class=\"tocSkip\"></span></h1>\n",
    "<div class=\"toc\"><ul class=\"toc-item\"></ul></div>"
   ]
  },
  {
   "cell_type": "code",
   "execution_count": 5,
   "metadata": {
    "ExecuteTime": {
     "end_time": "2020-04-16T06:18:32.519348Z",
     "start_time": "2020-04-16T06:18:32.515335Z"
    }
   },
   "outputs": [],
   "source": [
    "from tkinter import *\n",
    "import tkinter as tk"
   ]
  },
  {
   "cell_type": "code",
   "execution_count": 13,
   "metadata": {
    "ExecuteTime": {
     "end_time": "2020-04-16T06:20:45.980299Z",
     "start_time": "2020-04-16T06:20:45.891863Z"
    }
   },
   "outputs": [],
   "source": [
    "window=tk.Tk()\n",
    "# add widgets here"
   ]
  },
  {
   "cell_type": "code",
   "execution_count": 14,
   "metadata": {
    "ExecuteTime": {
     "end_time": "2020-04-16T06:20:46.443582Z",
     "start_time": "2020-04-16T06:20:46.428639Z"
    }
   },
   "outputs": [],
   "source": [
    "window.title(\"Flight_Scraper\")\n",
    "frame_header = tk.Frame(master = window, borderwidth=2, pady=2)\n",
    "center_frame = tk.Frame(window, borderwidth=2, pady=5)\n",
    "bottom_frame = tk.Frame(window, borderwidth=2, pady=5)\n",
    "frame_header.grid(row=0, column=0)\n",
    "center_frame.grid(row=1, column=0)\n",
    "bottom_frame.grid(row=2, column=0)\n",
    "\n",
    "header = tk.Label(frame_header, text = \"FLIGHT SCRAPER TOOL\", bg='grey', fg='black', height='3', width='50', font=(\"Helvetica 16 bold\"))\n",
    "header.grid(row=0, column=0)"
   ]
  },
  {
   "cell_type": "code",
   "execution_count": 15,
   "metadata": {
    "ExecuteTime": {
     "end_time": "2020-04-16T06:20:47.178593Z",
     "start_time": "2020-04-16T06:20:47.168524Z"
    }
   },
   "outputs": [],
   "source": [
    "frame_main_1 = tk.Frame(center_frame, borderwidth=2, relief='sunken')\n",
    "frame_main_2 = tk.Frame(center_frame, borderwidth=2, relief='sunken')\n",
    "\n",
    "from_city = tk.Label(frame_main_1, text = \"FROM: \")\n",
    "to_city = tk.Label(frame_main_2, text = \"TO:      \")\n",
    "departure_date = tk.Label(frame_main_1, text = \"    DEPARTURE DATE:\")\n",
    "return_date = tk.Label(frame_main_2, text = \"     RETURN DATE:\")\n"
   ]
  },
  {
   "cell_type": "code",
   "execution_count": 16,
   "metadata": {
    "ExecuteTime": {
     "end_time": "2020-04-16T06:20:59.706191Z",
     "start_time": "2020-04-16T06:20:47.901860Z"
    }
   },
   "outputs": [],
   "source": [
    "from_city1 = tk.StringVar()\n",
    "to_city1 = tk.StringVar()\n",
    "departure_date1 = tk.StringVar()\n",
    "return_date1 = tk.StringVar()\n",
    "window.mainloop()"
   ]
  },
  {
   "cell_type": "code",
   "execution_count": 17,
   "metadata": {
    "ExecuteTime": {
     "end_time": "2020-04-16T06:22:05.398991Z",
     "start_time": "2020-04-16T06:21:36.597471Z"
    }
   },
   "outputs": [],
   "source": [
    "from tkinter import *\n",
    "from tkinter.ttk import Combobox\n",
    "window=Tk()\n",
    "var = StringVar()\n",
    "var.set(\"one\")\n",
    "data=(\"one\", \"two\", \"three\", \"four\")\n",
    "cb=Combobox(window, values=data)\n",
    "cb.place(x=60, y=150)\n",
    "\n",
    "lb=Listbox(window, height=5, selectmode='multiple')\n",
    "for num in data:\n",
    "    lb.insert(END,num)\n",
    "lb.place(x=250, y=150)\n",
    "\n",
    "v0=IntVar()\n",
    "v0.set(1)\n",
    "r1=Radiobutton(window, text=\"male\", variable=v0,value=1)\n",
    "r2=Radiobutton(window, text=\"female\", variable=v0,value=2)\n",
    "r1.place(x=100,y=50)\n",
    "r2.place(x=180, y=50)\n",
    "                \n",
    "v1 = IntVar()\n",
    "v2 = IntVar()\n",
    "C1 = Checkbutton(window, text = \"Cricket\", variable = v1)\n",
    "C2 = Checkbutton(window, text = \"Tennis\", variable = v2)\n",
    "C1.place(x=100, y=100)\n",
    "C2.place(x=180, y=100)\n",
    "\n",
    "window.title('Hello Python')\n",
    "window.geometry(\"400x300+10+10\")\n",
    "window.mainloop()"
   ]
  },
  {
   "cell_type": "code",
   "execution_count": 18,
   "metadata": {
    "ExecuteTime": {
     "end_time": "2020-04-16T06:23:06.941731Z",
     "start_time": "2020-04-16T06:22:38.931894Z"
    }
   },
   "outputs": [],
   "source": [
    "from tkinter import *\n",
    "class MyWindow:\n",
    "    def __init__(self, win):\n",
    "        self.lbl1=Label(win, text='First number')\n",
    "        self.lbl2=Label(win, text='Second number')\n",
    "        self.lbl3=Label(win, text='Result')\n",
    "        self.t1=Entry(bd=3)\n",
    "        self.t2=Entry()\n",
    "        self.t3=Entry()\n",
    "        self.btn1 = Button(win, text='Add')\n",
    "        self.btn2=Button(win, text='Subtract')\n",
    "        self.lbl1.place(x=100, y=50)\n",
    "        self.t1.place(x=200, y=50)\n",
    "        self.lbl2.place(x=100, y=100)\n",
    "        self.t2.place(x=200, y=100)\n",
    "        self.b1=Button(win, text='Add', command=self.add)\n",
    "        self.b2=Button(win, text='Subtract')\n",
    "        self.b2.bind('<Button-1>', self.sub)\n",
    "        self.b1.place(x=100, y=150)\n",
    "        self.b2.place(x=200, y=150)\n",
    "        self.lbl3.place(x=100, y=200)\n",
    "        self.t3.place(x=200, y=200)\n",
    "    def add(self):\n",
    "        self.t3.delete(0, 'end')\n",
    "        num1=int(self.t1.get())\n",
    "        num2=int(self.t2.get())\n",
    "        result=num1+num2\n",
    "        self.t3.insert(END, str(result))\n",
    "    def sub(self, event):\n",
    "        self.t3.delete(0, 'end')\n",
    "        num1=int(self.t1.get())\n",
    "        num2=int(self.t2.get())\n",
    "        result=num1-num2\n",
    "        self.t3.insert(END, str(result))\n",
    "\n",
    "window=Tk()\n",
    "mywin=MyWindow(window)\n",
    "window.title('Hello Python')\n",
    "window.geometry(\"400x300+10+10\")\n",
    "window.mainloop()"
   ]
  },
  {
   "cell_type": "code",
   "execution_count": null,
   "metadata": {},
   "outputs": [],
   "source": []
  }
 ],
 "metadata": {
  "kernelspec": {
   "display_name": "Python 3",
   "language": "python",
   "name": "python3"
  },
  "language_info": {
   "codemirror_mode": {
    "name": "ipython",
    "version": 3
   },
   "file_extension": ".py",
   "mimetype": "text/x-python",
   "name": "python",
   "nbconvert_exporter": "python",
   "pygments_lexer": "ipython3",
   "version": "3.7.6"
  },
  "toc": {
   "base_numbering": 1,
   "nav_menu": {},
   "number_sections": true,
   "sideBar": true,
   "skip_h1_title": false,
   "title_cell": "Table of Contents",
   "title_sidebar": "Contents",
   "toc_cell": true,
   "toc_position": {},
   "toc_section_display": true,
   "toc_window_display": false
  }
 },
 "nbformat": 4,
 "nbformat_minor": 4
}
