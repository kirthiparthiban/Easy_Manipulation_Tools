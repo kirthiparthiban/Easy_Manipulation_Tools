{
 "cells": [
  {
   "cell_type": "markdown",
   "metadata": {
    "toc": true
   },
   "source": [
    "<h1>Table of Contents<span class=\"tocSkip\"></span></h1>\n",
    "<div class=\"toc\"><ul class=\"toc-item\"></ul></div>"
   ]
  },
  {
   "cell_type": "code",
   "execution_count": 21,
   "metadata": {
    "ExecuteTime": {
     "end_time": "2020-04-16T06:32:57.595622Z",
     "start_time": "2020-04-16T06:32:57.587777Z"
    }
   },
   "outputs": [],
   "source": [
    "class employee:\n",
    "    def __init__(self):\n",
    "        self.name='Swati'\n",
    "        self.salary=10000\n",
    "    def __str__(self):\n",
    "        val = self.salary * 0.5\n",
    "        return 'name='+self.name+' salary=$'+str(self.salary)"
   ]
  },
  {
   "cell_type": "code",
   "execution_count": 22,
   "metadata": {
    "ExecuteTime": {
     "end_time": "2020-04-16T06:32:59.467661Z",
     "start_time": "2020-04-16T06:32:59.459864Z"
    }
   },
   "outputs": [
    {
     "name": "stdout",
     "output_type": "stream",
     "text": [
      "name=Swati salary=$10000\n"
     ]
    }
   ],
   "source": [
    "print(employee())"
   ]
  },
  {
   "cell_type": "markdown",
   "metadata": {},
   "source": [
    "pyOD - https://www.linkedin.com/pulse/programming-python-parul-pandey/"
   ]
  },
  {
   "cell_type": "code",
   "execution_count": null,
   "metadata": {},
   "outputs": [],
   "source": []
  }
 ],
 "metadata": {
  "kernelspec": {
   "display_name": "Python 3",
   "language": "python",
   "name": "python3"
  },
  "language_info": {
   "codemirror_mode": {
    "name": "ipython",
    "version": 3
   },
   "file_extension": ".py",
   "mimetype": "text/x-python",
   "name": "python",
   "nbconvert_exporter": "python",
   "pygments_lexer": "ipython3",
   "version": "3.7.6"
  },
  "toc": {
   "base_numbering": 1,
   "nav_menu": {},
   "number_sections": true,
   "sideBar": true,
   "skip_h1_title": false,
   "title_cell": "Table of Contents",
   "title_sidebar": "Contents",
   "toc_cell": true,
   "toc_position": {},
   "toc_section_display": true,
   "toc_window_display": false
  }
 },
 "nbformat": 4,
 "nbformat_minor": 4
}
