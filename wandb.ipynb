{
 "cells": [
  {
   "cell_type": "markdown",
   "metadata": {
    "toc": true
   },
   "source": [
    "<h1>Table of Contents<span class=\"tocSkip\"></span></h1>\n",
    "<div class=\"toc\"><ul class=\"toc-item\"></ul></div>"
   ]
  },
  {
   "cell_type": "code",
   "execution_count": 5,
   "metadata": {
    "ExecuteTime": {
     "end_time": "2020-04-15T10:59:52.998407Z",
     "start_time": "2020-04-15T10:56:58.299080Z"
    }
   },
   "outputs": [
    {
     "name": "stderr",
     "output_type": "stream",
     "text": [
      "wandb: ERROR Not authenticated.  Copy a key from https://app.wandb.ai/authorize\n"
     ]
    },
    {
     "name": "stdout",
     "output_type": "stream",
     "text": [
      "API Key: ········\n"
     ]
    },
    {
     "name": "stderr",
     "output_type": "stream",
     "text": [
      "wandb: Appending key for api.wandb.ai to your netrc file: C:\\Users\\91994/.netrc\n"
     ]
    },
    {
     "data": {
      "text/html": [
       "\n",
       "                Logging results to <a href=\"https://wandb.com\" target=\"_blank\">Weights & Biases</a> <a href=\"https://docs.wandb.com/integrations/jupyter.html\" target=\"_blank\">(Documentation)</a>.<br/>\n",
       "                Project page: <a href=\"https://app.wandb.ai/mother-2020/visualize-models\" target=\"_blank\">https://app.wandb.ai/mother-2020/visualize-models</a><br/>\n",
       "                Run page: <a href=\"https://app.wandb.ai/mother-2020/visualize-models/runs/2zvzfzf6\" target=\"_blank\">https://app.wandb.ai/mother-2020/visualize-models/runs/2zvzfzf6</a><br/>\n",
       "            "
      ],
      "text/plain": [
       "<IPython.core.display.HTML object>"
      ]
     },
     "metadata": {},
     "output_type": "display_data"
    },
    {
     "data": {
      "text/plain": [
       "W&B Run: https://app.wandb.ai/mother-2020/visualize-models/runs/2zvzfzf6"
      ]
     },
     "execution_count": 5,
     "metadata": {},
     "output_type": "execute_result"
    }
   ],
   "source": [
    "import wandb\n",
    "\n",
    "import numpy as np\n",
    "import xgboost as xgb\n",
    "\n",
    "wandb.init(project=\"visualize-models\", name=\"xgboost\")"
   ]
  },
  {
   "cell_type": "code",
   "execution_count": 6,
   "metadata": {
    "ExecuteTime": {
     "end_time": "2020-04-15T11:00:11.047737Z",
     "start_time": "2020-04-15T11:00:11.039546Z"
    }
   },
   "outputs": [
    {
     "data": {
      "text/plain": [
       "'C:\\\\Users\\\\91994\\\\Downloads\\\\data-science-bowl-2019'"
      ]
     },
     "execution_count": 6,
     "metadata": {},
     "output_type": "execute_result"
    }
   ],
   "source": [
    "%pwd"
   ]
  },
  {
   "cell_type": "code",
   "execution_count": 7,
   "metadata": {
    "ExecuteTime": {
     "end_time": "2020-04-15T11:00:40.361829Z",
     "start_time": "2020-04-15T11:00:40.332789Z"
    }
   },
   "outputs": [],
   "source": [
    "# label need to be 0 to num_class -1\n",
    "data = np.loadtxt('./dermatology.data', delimiter=',',\n",
    "        converters={33: lambda x:int(x == '?'), 34: lambda x:int(x) - 1})\n",
    "sz = data.shape"
   ]
  },
  {
   "cell_type": "code",
   "execution_count": 8,
   "metadata": {
    "ExecuteTime": {
     "end_time": "2020-04-15T11:01:03.557822Z",
     "start_time": "2020-04-15T11:01:03.539077Z"
    }
   },
   "outputs": [
    {
     "name": "stderr",
     "output_type": "stream",
     "text": [
      "C:\\Users\\91994\\anaconda3\\lib\\site-packages\\xgboost\\core.py:383: UserWarning: Use subset (sliced data) of np.ndarray is not recommended because it will generate extra copies and increase memory consumption\n",
      "  \"because it will generate extra copies and increase \" +\n"
     ]
    }
   ],
   "source": [
    "train = data[:int(sz[0] * 0.7), :]\n",
    "test = data[int(sz[0] * 0.7):, :]\n",
    "\n",
    "train_X = train[:, :33]\n",
    "train_Y = train[:, 34]\n",
    "\n",
    "test_X = test[:, :33]\n",
    "test_Y = test[:, 34]\n",
    "\n",
    "xg_train = xgb.DMatrix(train_X, label=train_Y)\n",
    "xg_test = xgb.DMatrix(test_X, label=test_Y)"
   ]
  },
  {
   "cell_type": "code",
   "execution_count": 9,
   "metadata": {
    "ExecuteTime": {
     "end_time": "2020-04-15T11:01:20.742101Z",
     "start_time": "2020-04-15T11:01:13.843567Z"
    }
   },
   "outputs": [],
   "source": [
    "param = {}\n",
    "# use softmax multi-class classification\n",
    "param['objective'] = 'multi:softmax'\n",
    "# scale weight of positive examples\n",
    "param['eta'] = 0.1\n",
    "param['max_depth'] = 6\n",
    "param['silent'] = 1\n",
    "param['nthread'] = 4\n",
    "param['num_class'] = 6\n",
    "wandb.config.update(param)"
   ]
  },
  {
   "cell_type": "code",
   "execution_count": 10,
   "metadata": {
    "ExecuteTime": {
     "end_time": "2020-04-15T11:01:24.015237Z",
     "start_time": "2020-04-15T11:01:24.007630Z"
    }
   },
   "outputs": [],
   "source": [
    "watchlist = [(xg_train, 'train'), (xg_test, 'test')]\n",
    "num_round = 5"
   ]
  },
  {
   "cell_type": "code",
   "execution_count": 11,
   "metadata": {
    "ExecuteTime": {
     "end_time": "2020-04-15T11:02:12.233534Z",
     "start_time": "2020-04-15T11:02:05.344110Z"
    }
   },
   "outputs": [
    {
     "data": {
      "text/html": [
       "<iframe src=\"https://app.wandb.ai/mother-2020/visualize-models/runs/2zvzfzf6?jupyter=true&state=paused\" style=\"border:none;width:100%;height:420px\">\n",
       "                </iframe>"
      ],
      "text/plain": [
       "<wandb.jupyter.Run at 0x2683e703308>"
      ]
     },
     "metadata": {},
     "output_type": "display_data"
    },
    {
     "name": "stdout",
     "output_type": "stream",
     "text": [
      "[0]\ttrain-merror:0.01172\ttest-merror:0.12727\n",
      "[1]\ttrain-merror:0.01562\ttest-merror:0.12727\n",
      "[2]\ttrain-merror:0.01172\ttest-merror:0.10909\n",
      "[3]\ttrain-merror:0.00781\ttest-merror:0.08182\n",
      "[4]\ttrain-merror:0.00781\ttest-merror:0.09091\n",
      "Test error using softmax = 0.09090909090909091\n"
     ]
    }
   ],
   "source": [
    "%%wandb\n",
    "# Add the wandb xgboost callback\n",
    "bst = xgb.train(param, xg_train, num_round, watchlist, callbacks=[wandb.xgboost.wandb_callback()])\n",
    "# get prediction\n",
    "pred = bst.predict(xg_test)\n",
    "error_rate = np.sum(pred != test_Y) / test_Y.shape[0]\n",
    "print('Test error using softmax = {}'.format(error_rate))\n",
    "\n",
    "wandb.summary['Error Rate'] = error_rate"
   ]
  },
  {
   "cell_type": "code",
   "execution_count": 12,
   "metadata": {
    "ExecuteTime": {
     "end_time": "2020-04-15T11:03:39.484303Z",
     "start_time": "2020-04-15T11:03:30.002753Z"
    }
   },
   "outputs": [
    {
     "data": {
      "text/html": [
       "\n",
       "                Logging results to <a href=\"https://wandb.com\" target=\"_blank\">Weights & Biases</a> <a href=\"https://docs.wandb.com/integrations/jupyter.html\" target=\"_blank\">(Documentation)</a>.<br/>\n",
       "                Project page: <a href=\"https://app.wandb.ai/mother-2020/visualize-sklearn\" target=\"_blank\">https://app.wandb.ai/mother-2020/visualize-sklearn</a><br/>\n",
       "                Run page: <a href=\"https://app.wandb.ai/mother-2020/visualize-sklearn/runs/1cyfzpli\" target=\"_blank\">https://app.wandb.ai/mother-2020/visualize-sklearn/runs/1cyfzpli</a><br/>\n",
       "            "
      ],
      "text/plain": [
       "<IPython.core.display.HTML object>"
      ]
     },
     "metadata": {},
     "output_type": "display_data"
    },
    {
     "data": {
      "text/plain": [
       "W&B Run: https://app.wandb.ai/mother-2020/visualize-sklearn/runs/1cyfzpli"
      ]
     },
     "execution_count": 12,
     "metadata": {},
     "output_type": "execute_result"
    }
   ],
   "source": [
    "import wandb\n",
    "wandb.init(project=\"visualize-sklearn\")"
   ]
  },
  {
   "cell_type": "code",
   "execution_count": 13,
   "metadata": {
    "ExecuteTime": {
     "end_time": "2020-04-15T11:04:02.985375Z",
     "start_time": "2020-04-15T11:03:40.694149Z"
    }
   },
   "outputs": [
    {
     "ename": "NameError",
     "evalue": "name 'y_true' is not defined",
     "output_type": "error",
     "traceback": [
      "\u001b[1;31m---------------------------------------------------------------------------\u001b[0m",
      "\u001b[1;31mNameError\u001b[0m                                 Traceback (most recent call last)",
      "\u001b[1;32m<ipython-input-13-6d9cccb9336c>\u001b[0m in \u001b[0;36m<module>\u001b[1;34m\u001b[0m\n\u001b[0;32m      1\u001b[0m \u001b[1;31m# Visualize single plot\u001b[0m\u001b[1;33m\u001b[0m\u001b[1;33m\u001b[0m\u001b[1;33m\u001b[0m\u001b[0m\n\u001b[1;32m----> 2\u001b[1;33m \u001b[0mwandb\u001b[0m\u001b[1;33m.\u001b[0m\u001b[0msklearn\u001b[0m\u001b[1;33m.\u001b[0m\u001b[0mplot_confusion_matrix\u001b[0m\u001b[1;33m(\u001b[0m\u001b[0my_true\u001b[0m\u001b[1;33m,\u001b[0m \u001b[0my_probas\u001b[0m\u001b[1;33m,\u001b[0m \u001b[0mlabels\u001b[0m\u001b[1;33m)\u001b[0m\u001b[1;33m\u001b[0m\u001b[1;33m\u001b[0m\u001b[0m\n\u001b[0m",
      "\u001b[1;31mNameError\u001b[0m: name 'y_true' is not defined"
     ]
    }
   ],
   "source": [
    "# Visualize single plot\n",
    "wandb.sklearn.plot_confusion_matrix(y_true, y_probas, labels)"
   ]
  },
  {
   "cell_type": "code",
   "execution_count": null,
   "metadata": {
    "ExecuteTime": {
     "end_time": "2020-04-15T11:04:02.992711Z",
     "start_time": "2020-04-15T11:03:48.663Z"
    }
   },
   "outputs": [],
   "source": [
    "# Visualize all classifier plots\n",
    "wandb.sklearn.plot_classifier(clf, X_train, X_test, y_train, y_test, y_pred, y_probas, labels, model_name='SVC', feature_names=None)\n",
    "\n",
    "# All regression plots\n",
    "wandb.sklearn.plot_regressor(reg, X_train, X_test, y_train, y_test,  model_name='Ridge')\n",
    "\n",
    "# All clustering plots\n",
    "wandb.sklearn.plot_clusterer(kmeans, X_train, cluster_labels, labels=None, model_name='KMeans')"
   ]
  },
  {
   "cell_type": "code",
   "execution_count": 14,
   "metadata": {
    "ExecuteTime": {
     "end_time": "2020-04-15T11:04:55.102601Z",
     "start_time": "2020-04-15T11:04:15.603424Z"
    }
   },
   "outputs": [
    {
     "data": {
      "text/html": [
       "\n",
       "                Logging results to <a href=\"https://wandb.com\" target=\"_blank\">Weights & Biases</a> <a href=\"https://docs.wandb.com/integrations/jupyter.html\" target=\"_blank\">(Documentation)</a>.<br/>\n",
       "                Project page: <a href=\"https://app.wandb.ai/mother-2020/visualize-models\" target=\"_blank\">https://app.wandb.ai/mother-2020/visualize-models</a><br/>\n",
       "                Run page: <a href=\"https://app.wandb.ai/mother-2020/visualize-models/runs/13ckci1d\" target=\"_blank\">https://app.wandb.ai/mother-2020/visualize-models/runs/13ckci1d</a><br/>\n",
       "            "
      ],
      "text/plain": [
       "<IPython.core.display.HTML object>"
      ]
     },
     "metadata": {},
     "output_type": "display_data"
    },
    {
     "name": "stderr",
     "output_type": "stream",
     "text": [
      "wandb: \n",
      "wandb: Plotting Ridge.\n",
      "wandb: Logged summary metrics.\n",
      "wandb: Logged learning curve.\n",
      "wandb: Logged outlier candidates.\n",
      "wandb: WARNING wandb uses only the first 1000 datapoints to create the plots.\n",
      "wandb: Logged residuals.\n"
     ]
    }
   ],
   "source": [
    "from sklearn.datasets import load_boston\n",
    "from sklearn.model_selection import train_test_split\n",
    "from sklearn.linear_model import Ridge\n",
    "import matplotlib.pyplot as plt\n",
    "import pandas as pd\n",
    "import wandb\n",
    "# wandb.init(anonymous='allow', project=\"sklearn\")\n",
    "wandb.init(project=\"visualize-models\", name=\"sklearn\")\n",
    "\n",
    "# Load data\n",
    "boston = load_boston()\n",
    "X = pd.DataFrame(boston.data, columns=boston.feature_names)\n",
    "y = boston.target\n",
    "\n",
    "X_train, X_test, y_train, y_test = train_test_split(X, y, test_size=0.2)\n",
    "\n",
    "# Train model, get predictions\n",
    "reg = Ridge()\n",
    "reg.fit(X, y)\n",
    "y_pred = reg.predict(X_test)\n",
    "\n",
    "# Visualize model performance\n",
    "wandb.sklearn.plot_regressor(reg, X_train, X_test, y_train, y_test, 'Ridge')"
   ]
  },
  {
   "cell_type": "code",
   "execution_count": null,
   "metadata": {},
   "outputs": [],
   "source": []
  }
 ],
 "metadata": {
  "kernelspec": {
   "display_name": "Python 3",
   "language": "python",
   "name": "python3"
  },
  "language_info": {
   "codemirror_mode": {
    "name": "ipython",
    "version": 3
   },
   "file_extension": ".py",
   "mimetype": "text/x-python",
   "name": "python",
   "nbconvert_exporter": "python",
   "pygments_lexer": "ipython3",
   "version": "3.7.6"
  },
  "toc": {
   "base_numbering": 1,
   "nav_menu": {},
   "number_sections": true,
   "sideBar": true,
   "skip_h1_title": false,
   "title_cell": "Table of Contents",
   "title_sidebar": "Contents",
   "toc_cell": true,
   "toc_position": {
    "height": "calc(100% - 180px)",
    "left": "10px",
    "top": "150px",
    "width": "284.444px"
   },
   "toc_section_display": true,
   "toc_window_display": true
  }
 },
 "nbformat": 4,
 "nbformat_minor": 4
}
